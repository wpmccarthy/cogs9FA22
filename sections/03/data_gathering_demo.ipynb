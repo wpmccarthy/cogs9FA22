{
 "cells": [
  {
   "cell_type": "markdown",
   "id": "dcb872d9",
   "metadata": {},
   "source": [
    "# Data merging demo"
   ]
  },
  {
   "cell_type": "code",
   "execution_count": null,
   "id": "1918acd5",
   "metadata": {},
   "outputs": [],
   "source": [
    "import pandas as pd"
   ]
  },
  {
   "cell_type": "code",
   "execution_count": null,
   "id": "29e97db9",
   "metadata": {},
   "outputs": [],
   "source": [
    "sectionID = 106336 #A03, Wed 4-5\n",
    "# sectionID = 106337 #A04, Wed 5-6\n",
    "\n",
    "section = pd.read_csv('../01/cogs9_section_{}_group_assignments.csv'.format(sectionID))[['Email','group']]\n",
    "section"
   ]
  },
  {
   "cell_type": "code",
   "execution_count": null,
   "id": "97480d0f",
   "metadata": {},
   "outputs": [],
   "source": [
    "# load student list CSV as dataframe\n",
    "students = pd.read_csv('../../cogs9FA22.csv')\n",
    "\n",
    "# remove your PIDs for privacy\n",
    "students = students[[column_name for column_name in students.columns if column_name != 'PID']]\n",
    "\n",
    "students"
   ]
  },
  {
   "cell_type": "code",
   "execution_count": null,
   "id": "7bc0f4a9",
   "metadata": {},
   "outputs": [],
   "source": [
    "section_plus = section.merge(students, how=\"left\", on=\"Email\")\n",
    "section_plus"
   ]
  },
  {
   "cell_type": "code",
   "execution_count": null,
   "id": "1d8ec58a",
   "metadata": {},
   "outputs": [],
   "source": [
    "section_plus[['Email','group','Student']]"
   ]
  },
  {
   "cell_type": "code",
   "execution_count": null,
   "id": "cc68a7f1",
   "metadata": {},
   "outputs": [],
   "source": [
    "section_plus.groupby([\"group\",\"Major\"]).apply(len)"
   ]
  },
  {
   "cell_type": "code",
   "execution_count": null,
   "id": "1d988f61",
   "metadata": {},
   "outputs": [],
   "source": [
    "section_plus[(section_plus.group == \"\") & (section_plus.Major == \"\")]"
   ]
  },
  {
   "cell_type": "markdown",
   "id": "2389a7e4",
   "metadata": {},
   "source": [
    "# Data Collection Demo: web scraping"
   ]
  },
  {
   "cell_type": "code",
   "execution_count": null,
   "id": "f837a5b0",
   "metadata": {},
   "outputs": [],
   "source": [
    "import requests\n",
    "from bs4 import BeautifulSoup"
   ]
  },
  {
   "cell_type": "markdown",
   "id": "b1b118ba",
   "metadata": {},
   "source": [
    "#### Grab a website's source code"
   ]
  },
  {
   "cell_type": "code",
   "execution_count": null,
   "id": "e015639c",
   "metadata": {
    "scrolled": true
   },
   "outputs": [],
   "source": [
    "URL = \"https://twitter.com/\"\n",
    "page = requests.get(URL)\n",
    "\n",
    "print(page.text)"
   ]
  },
  {
   "cell_type": "markdown",
   "id": "401cbfa3",
   "metadata": {},
   "source": [
    "#### Grab source code and turn into BeautifulSoup object"
   ]
  },
  {
   "cell_type": "code",
   "execution_count": null,
   "id": "06d03b9a",
   "metadata": {},
   "outputs": [],
   "source": [
    "# demo from https://realpython.com/beautiful-soup-web-scraper-python/\n",
    "\n",
    "URL = \"https://realpython.github.io/fake-jobs/\"\n",
    "page = requests.get(URL)\n",
    "\n",
    "soup = BeautifulSoup(page.content, \"html.parser\")"
   ]
  },
  {
   "cell_type": "code",
   "execution_count": null,
   "id": "444d93be",
   "metadata": {},
   "outputs": [],
   "source": [
    "soup"
   ]
  },
  {
   "cell_type": "code",
   "execution_count": null,
   "id": "cdf3d7d7",
   "metadata": {},
   "outputs": [],
   "source": [
    "results = soup.find(id=\"ResultsContainer\")"
   ]
  },
  {
   "cell_type": "code",
   "execution_count": null,
   "id": "54058f2d",
   "metadata": {},
   "outputs": [],
   "source": [
    "print(results.prettify())"
   ]
  },
  {
   "cell_type": "code",
   "execution_count": null,
   "id": "12f073d8",
   "metadata": {},
   "outputs": [],
   "source": [
    "job_elements = results.find_all(\"div\", class_=\"card-content\")"
   ]
  },
  {
   "cell_type": "code",
   "execution_count": null,
   "id": "5cd95801",
   "metadata": {},
   "outputs": [],
   "source": [
    "for job_element in job_elements:\n",
    "    print(job_element, end=\"\\n\"*2)"
   ]
  },
  {
   "cell_type": "code",
   "execution_count": null,
   "id": "d448c2a7",
   "metadata": {},
   "outputs": [],
   "source": [
    "for job_element in job_elements:\n",
    "    title_element = job_element.find(\"h2\", class_=\"title\")\n",
    "    company_element = job_element.find(\"h3\", class_=\"company\")\n",
    "    location_element = job_element.find(\"p\", class_=\"location\")\n",
    "    print(title_element)\n",
    "    print(company_element)\n",
    "    print(location_element)\n",
    "    print()"
   ]
  },
  {
   "cell_type": "code",
   "execution_count": null,
   "id": "9fde0144",
   "metadata": {},
   "outputs": [],
   "source": [
    "for job_element in job_elements:\n",
    "    title_element = job_element.find(\"h2\", class_=\"title\")\n",
    "    company_element = job_element.find(\"h3\", class_=\"company\")\n",
    "    location_element = job_element.find(\"p\", class_=\"location\")\n",
    "    print(title_element.text.strip())\n",
    "    print(company_element.text.strip())\n",
    "    print(location_element.text.strip())\n",
    "    print()"
   ]
  },
  {
   "cell_type": "code",
   "execution_count": null,
   "id": "d1955e7d",
   "metadata": {},
   "outputs": [],
   "source": []
  }
 ],
 "metadata": {
  "kernelspec": {
   "display_name": "Python 3",
   "language": "python",
   "name": "python3"
  },
  "language_info": {
   "codemirror_mode": {
    "name": "ipython",
    "version": 3
   },
   "file_extension": ".py",
   "mimetype": "text/x-python",
   "name": "python",
   "nbconvert_exporter": "python",
   "pygments_lexer": "ipython3",
   "version": "3.9.5"
  }
 },
 "nbformat": 4,
 "nbformat_minor": 5
}
