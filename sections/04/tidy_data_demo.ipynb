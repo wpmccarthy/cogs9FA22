{
 "cells": [
  {
   "cell_type": "markdown",
   "id": "209ae878",
   "metadata": {},
   "source": [
    "# COGS 9, Section 4 Demo: Data Wrangling and Tidy Data"
   ]
  },
  {
   "cell_type": "code",
   "execution_count": null,
   "id": "567e8962",
   "metadata": {},
   "outputs": [],
   "source": [
    "import pandas as pd"
   ]
  },
  {
   "cell_type": "code",
   "execution_count": null,
   "id": "d2101d85",
   "metadata": {
    "scrolled": true
   },
   "outputs": [],
   "source": [
    "df_game_messy = pd.read_csv('game_data_messy.csv')\n",
    "df_game_messy"
   ]
  },
  {
   "cell_type": "markdown",
   "id": "19785b76",
   "metadata": {},
   "source": [
    "Let's try melting this"
   ]
  },
  {
   "cell_type": "code",
   "execution_count": null,
   "id": "ed921331",
   "metadata": {},
   "outputs": [],
   "source": [
    "df_game_tidy = df_game_messy.melt()\n",
    "df_game_tidy"
   ]
  },
  {
   "cell_type": "markdown",
   "id": "d82c060d",
   "metadata": {},
   "source": [
    "Oops- What went wrong there?\n",
    "Pandas has no idea which columns we want to preserve as variables, and which are values we want to stack.\n",
    "\n",
    "It turns out you just pass the list of variable column names as the first argument."
   ]
  },
  {
   "cell_type": "code",
   "execution_count": null,
   "id": "ccf8973e",
   "metadata": {},
   "outputs": [],
   "source": [
    "df_game_tidy = df_game_messy.melt(['id','Age','Country'])\n",
    "df_game_tidy"
   ]
  },
  {
   "cell_type": "markdown",
   "id": "232465f3",
   "metadata": {},
   "source": [
    "This is pretty good, but 'variable' and 'value' are hard to interpret. We could rename these to something more useful, or pass them into the melt function. "
   ]
  },
  {
   "cell_type": "code",
   "execution_count": null,
   "id": "6bcc474b",
   "metadata": {},
   "outputs": [],
   "source": [
    "df_game_tidy = df_game_messy.melt(['id','Age','Country'],\n",
    "                                  value_name=\"Score\",\n",
    "                                  var_name=\"Game\")\n",
    "df_game_tidy"
   ]
  },
  {
   "cell_type": "markdown",
   "id": "ee56a432",
   "metadata": {},
   "source": [
    "Now your data are tidy it is **very easy to plot**, using Seaborn"
   ]
  },
  {
   "cell_type": "code",
   "execution_count": null,
   "id": "1a58ad19",
   "metadata": {},
   "outputs": [],
   "source": [
    "import seaborn as sns\n",
    "from matplotlib import pylab, mlab, pyplot\n",
    "plt = pyplot"
   ]
  },
  {
   "cell_type": "code",
   "execution_count": null,
   "id": "0aa0e801",
   "metadata": {
    "scrolled": false
   },
   "outputs": [],
   "source": [
    "plt.figure()\n",
    "sns.barplot(data = df_game_tidy,\n",
    "            x = 'Game',\n",
    "            y = 'Score',\n",
    "            hue = 'id'\n",
    "            )\n",
    "plt.show()"
   ]
  },
  {
   "cell_type": "code",
   "execution_count": null,
   "id": "37642d9a",
   "metadata": {},
   "outputs": [],
   "source": [
    "plt.figure()\n",
    "sns.barplot(data = df_game_tidy,\n",
    "            x = 'Game',\n",
    "            y = 'Score',\n",
    "            hue = 'Country'\n",
    "            )\n",
    "plt.show()"
   ]
  },
  {
   "cell_type": "code",
   "execution_count": null,
   "id": "8a53ce75",
   "metadata": {},
   "outputs": [],
   "source": []
  }
 ],
 "metadata": {
  "kernelspec": {
   "display_name": "Python 3",
   "language": "python",
   "name": "python3"
  },
  "language_info": {
   "codemirror_mode": {
    "name": "ipython",
    "version": 3
   },
   "file_extension": ".py",
   "mimetype": "text/x-python",
   "name": "python",
   "nbconvert_exporter": "python",
   "pygments_lexer": "ipython3",
   "version": "3.9.5"
  }
 },
 "nbformat": 4,
 "nbformat_minor": 5
}
