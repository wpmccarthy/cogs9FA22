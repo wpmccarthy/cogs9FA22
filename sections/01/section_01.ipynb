{
 "cells": [
  {
   "cell_type": "markdown",
   "id": "1fede399",
   "metadata": {},
   "source": [
    "# Section 01\n",
    "\n",
    "## Group assignment"
   ]
  },
  {
   "cell_type": "code",
   "execution_count": null,
   "id": "0c519014",
   "metadata": {},
   "outputs": [],
   "source": [
    "# pandas is the standard python package for wrangling data\n",
    "import pandas as pd\n",
    "\n",
    "# matplotlib is the standard python package for producing plots\n",
    "import random\n",
    "import  matplotlib\n",
    "from matplotlib import pylab, mlab, pyplot\n",
    "from matplotlib.colors import LinearSegmentedColormap, ListedColormap\n",
    "%matplotlib inline\n",
    "from IPython.core.pylabtools import figsize, getfigs\n",
    "plt = pyplot\n",
    "import matplotlib as mpl\n",
    "mpl.rcParams['pdf.fonttype'] = 42\n",
    "\n",
    "# seaborn is a popular python package for visualizing data. It is built on top of matplotlib\n",
    "import seaborn as sns"
   ]
  },
  {
   "cell_type": "code",
   "execution_count": null,
   "id": "8be18cde",
   "metadata": {},
   "outputs": [],
   "source": [
    "# load student list CSV as dataframe\n",
    "students = pd.read_csv('../../cogs9FA22.csv')"
   ]
  },
  {
   "cell_type": "code",
   "execution_count": null,
   "id": "2d259024",
   "metadata": {},
   "outputs": [],
   "source": [
    "# remove your PIDs for privacy\n",
    "students = students[[column_name for column_name in students.columns if column_name != 'PID']]"
   ]
  },
  {
   "cell_type": "code",
   "execution_count": null,
   "id": "db164e25",
   "metadata": {},
   "outputs": [],
   "source": [
    "# observe dataframe\n",
    "students"
   ]
  },
  {
   "cell_type": "code",
   "execution_count": null,
   "id": "b12acdad",
   "metadata": {},
   "outputs": [],
   "source": [
    "# Filter by section id\n",
    "\n",
    "# sectionID = 106336 #A03, Wed 4-5\n",
    "sectionID = 106337 #A04, Wed 5-6\n",
    "\n",
    "section = students[students['Sec ID'] == sectionID].reset_index(drop=True)"
   ]
  },
  {
   "cell_type": "code",
   "execution_count": null,
   "id": "fa2d62b6",
   "metadata": {
    "scrolled": false
   },
   "outputs": [],
   "source": [
    "section"
   ]
  },
  {
   "cell_type": "code",
   "execution_count": null,
   "id": "5d238fad",
   "metadata": {},
   "outputs": [],
   "source": [
    "plt.figure()\n",
    "sns.histplot(section['Level'])"
   ]
  },
  {
   "cell_type": "code",
   "execution_count": null,
   "id": "267faf02",
   "metadata": {},
   "outputs": [],
   "source": [
    "plt.figure()\n",
    "sns.histplot(y = section['Major'])"
   ]
  },
  {
   "cell_type": "markdown",
   "id": "ae1327da",
   "metadata": {},
   "source": [
    "### Assign groups\n",
    "\n",
    "There are many ways to partition a set into groups of a fixed size.\n",
    "Here is a simple way of doing it."
   ]
  },
  {
   "cell_type": "code",
   "execution_count": null,
   "id": "190e5c30",
   "metadata": {},
   "outputs": [],
   "source": [
    "group_size = 5\n",
    "\n",
    "# find number of students\n",
    "n_students = len(section)\n",
    "\n",
    "# find n groups\n",
    "n_groups = int(n_students/5)\n",
    "\n",
    "print(str(n_students) + ' students')\n",
    "print(str(n_groups) + ' groups')"
   ]
  },
  {
   "cell_type": "code",
   "execution_count": null,
   "id": "9f917ea6",
   "metadata": {},
   "outputs": [],
   "source": [
    "# shuffle groups\n",
    "\n",
    "# create an array of group indices \n",
    "group_assignments = pd.Series(list(range(0, n_students))).apply(lambda a: a % n_groups)\n",
    "group_assignments"
   ]
  },
  {
   "cell_type": "code",
   "execution_count": null,
   "id": "c1ffda02",
   "metadata": {
    "scrolled": true
   },
   "outputs": [],
   "source": [
    "# shuffle group indices \n",
    "random.shuffle(group_assignments)\n",
    "group_assignments"
   ]
  },
  {
   "cell_type": "code",
   "execution_count": null,
   "id": "83aed7b3",
   "metadata": {},
   "outputs": [],
   "source": [
    "# animals = pd.Series(['aardvark','badger','caterpillar','dragonfly','elephant','frog','gorilla','hedgehog','iguana','jaguar','koala','lion','monkey'])\n",
    "foods = pd.Series(['apple','banana','cherry','durian','eggplant','fig','grape','hazelnut','iceberg','jackfruit','kiwi','longan','mango'])\n"
   ]
  },
  {
   "cell_type": "code",
   "execution_count": null,
   "id": "f2e0274d",
   "metadata": {},
   "outputs": [],
   "source": [
    "section['group_assignment'] = list(group_assignments.astype(str).apply(lambda n: n.zfill(2)))\n",
    "section['group'] = list(foods[group_assignments])\n",
    "section = section.sort_values('group_assignment').reset_index(drop=True)"
   ]
  },
  {
   "cell_type": "code",
   "execution_count": null,
   "id": "6706ab21",
   "metadata": {},
   "outputs": [],
   "source": [
    "section"
   ]
  },
  {
   "cell_type": "code",
   "execution_count": null,
   "id": "0e7a01fe",
   "metadata": {},
   "outputs": [],
   "source": [
    "# lets visualize what's going on here. Wait what?\n",
    "sns.displot(section['group_assignment'])"
   ]
  },
  {
   "cell_type": "code",
   "execution_count": null,
   "id": "2cc1c985",
   "metadata": {},
   "outputs": [],
   "source": [
    "section.to_csv('cogs9_section_{}_group_assignments.csv'.format(sectionID))"
   ]
  },
  {
   "cell_type": "code",
   "execution_count": null,
   "id": "b6fc4745",
   "metadata": {
    "scrolled": false
   },
   "outputs": [],
   "source": [
    "with pd.option_context('display.max_rows', None,\n",
    "                       'display.max_columns', None,\n",
    "                       'display.precision', 3,\n",
    "                       ):\n",
    "    print(section[['group','Student','Email']])"
   ]
  },
  {
   "cell_type": "code",
   "execution_count": null,
   "id": "91b8dbaa",
   "metadata": {},
   "outputs": [],
   "source": [
    "Jaeyeon Lee ax008266@acsmail.ucsd.edu\n",
    "Kate Zhou yuz235@ucsd.edu\n",
    "fig Jack Kirwan jkirwan@ucsd.edu\n",
    "fig Yijun Luo   yil176@ucsd.edu"
   ]
  },
  {
   "cell_type": "code",
   "execution_count": null,
   "id": "ebab6c3f",
   "metadata": {
    "scrolled": false
   },
   "outputs": [],
   "source": [
    "with pd.option_context('display.max_rows', None,\n",
    "                       'display.max_columns', None,\n",
    "                       'display.precision', 3,\n",
    "                       ):\n",
    "    print(section[['group','Student','Email']])"
   ]
  },
  {
   "cell_type": "code",
   "execution_count": null,
   "id": "88487e47",
   "metadata": {},
   "outputs": [],
   "source": [
    "saransh malik - s2malik@ucsd.edu\n",
    "Jasmine Zhang - jiz186@ucsd.edu"
   ]
  },
  {
   "cell_type": "code",
   "execution_count": null,
   "id": "afda1177",
   "metadata": {},
   "outputs": [],
   "source": [
    "def make_email(df):\n",
    "    print('')\n",
    "    print(' '.join(list(df['Email'])))"
   ]
  },
  {
   "cell_type": "code",
   "execution_count": null,
   "id": "564edade",
   "metadata": {},
   "outputs": [],
   "source": [
    "section[['group','Student','Email']].groupby('group').apply(make_email)"
   ]
  },
  {
   "cell_type": "markdown",
   "id": "e272538d",
   "metadata": {},
   "source": [
    "# read saved groups"
   ]
  },
  {
   "cell_type": "code",
   "execution_count": null,
   "id": "ba5f8ccd",
   "metadata": {},
   "outputs": [],
   "source": [
    "# sectionID = 106336 #A03, Wed 4-5\n",
    "sectionID = 106337 #A04, Wed 5-6"
   ]
  },
  {
   "cell_type": "code",
   "execution_count": null,
   "id": "1cc2ece4",
   "metadata": {},
   "outputs": [],
   "source": [
    "pd.read_csv('cogs9_section_{}_group_assignments.csv'.format(sectionID))"
   ]
  }
 ],
 "metadata": {
  "kernelspec": {
   "display_name": "Python 3",
   "language": "python",
   "name": "python3"
  },
  "language_info": {
   "codemirror_mode": {
    "name": "ipython",
    "version": 3
   },
   "file_extension": ".py",
   "mimetype": "text/x-python",
   "name": "python",
   "nbconvert_exporter": "python",
   "pygments_lexer": "ipython3",
   "version": "3.9.5"
  }
 },
 "nbformat": 4,
 "nbformat_minor": 5
}
