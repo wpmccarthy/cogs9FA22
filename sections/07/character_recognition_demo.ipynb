{
 "cells": [
  {
   "cell_type": "markdown",
   "id": "cb5b3f7b",
   "metadata": {},
   "source": [
    "# Recognizing hand-written digits\n",
    "\n",
    "Demo from: https://scikit-learn.org/stable/auto_examples/classification/plot_digits_classification.html\n",
    "\n",
    "Here we are using a kind of machine learning model called a support vector classifier to perform classification of handwritten digits."
   ]
  },
  {
   "cell_type": "code",
   "execution_count": 32,
   "id": "7079f014",
   "metadata": {},
   "outputs": [],
   "source": [
    "# Author: Gael Varoquaux <gael dot varoquaux at normalesup dot org>\n",
    "# License: BSD 3 clause\n",
    "\n",
    "# Standard scientific Python imports\n",
    "import matplotlib.pyplot as plt\n",
    "\n",
    "# Import datasets, classifiers and performance metrics\n",
    "from sklearn import datasets, svm, metrics\n",
    "from sklearn.model_selection import train_test_split"
   ]
  },
  {
   "cell_type": "markdown",
   "id": "508b4c7f",
   "metadata": {},
   "source": [
    "### Load in dataset\n",
    "\n",
    "Here we're loading in a dataset consisting of labeled images of handwritten characters."
   ]
  },
  {
   "cell_type": "code",
   "execution_count": 214,
   "id": "694468f5",
   "metadata": {},
   "outputs": [
    {
     "data": {
      "image/png": "[encoded data removed]",
      "text/plain": [
       "<Figure size 1000x300 with 4 Axes>"
      ]
     },
     "metadata": {},
     "output_type": "display_data"
    }
   ],
   "source": [
    "digits = datasets.load_digits()\n",
    "\n",
    "_, axes = plt.subplots(nrows=1, ncols=4, figsize=(10, 3))\n",
    "for ax, image, label in zip(axes, digits.images, digits.target):\n",
    "    ax.set_axis_off()\n",
    "    ax.imshow(image, cmap=plt.cm.gray_r, interpolation=\"nearest\")\n",
    "    ax.set_title(\"Training: %i\" % label)\n",
    "    \n",
    "plt.show()"
   ]
  },
  {
   "cell_type": "markdown",
   "id": "9df519f5",
   "metadata": {},
   "source": [
    "### preprocess"
   ]
  },
  {
   "cell_type": "code",
   "execution_count": 215,
   "id": "a7ae19bc",
   "metadata": {},
   "outputs": [],
   "source": [
    "# flatten the images\n",
    "n_samples = len(digits.images)\n",
    "data = digits.images.reshape((n_samples, -1))"
   ]
  },
  {
   "cell_type": "code",
   "execution_count": 217,
   "id": "0c106531",
   "metadata": {},
   "outputs": [
    {
     "data": {
      "text/plain": [
       "array([ 0.,  0.,  5., 13.,  9.,  1.,  0.,  0.,  0.,  0., 13., 15., 10.,\n",
       "       15.,  5.,  0.,  0.,  3., 15.,  2.,  0., 11.,  8.,  0.,  0.,  4.,\n",
       "       12.,  0.,  0.,  8.,  8.,  0.,  0.,  5.,  8.,  0.,  0.,  9.,  8.,\n",
       "        0.,  0.,  4., 11.,  0.,  1., 12.,  7.,  0.,  0.,  2., 14.,  5.,\n",
       "       10., 12.,  0.,  0.,  0.,  0.,  6., 13., 10.,  0.,  0.,  0.])"
      ]
     },
     "execution_count": 217,
     "metadata": {},
     "output_type": "execute_result"
    }
   ],
   "source": [
    "data[0]"
   ]
  },
  {
   "cell_type": "markdown",
   "id": "66e3a773",
   "metadata": {},
   "source": [
    "### create the model\n",
    "\n",
    "Note that this is just a python object (`clf` below). This is the case for any pre-made classifier."
   ]
  },
  {
   "cell_type": "code",
   "execution_count": 195,
   "id": "a32a7fd2",
   "metadata": {},
   "outputs": [],
   "source": [
    "# Create a classifier: a support vector classifier\n",
    "clf = svm.SVC(gamma=0.001)"
   ]
  },
  {
   "cell_type": "markdown",
   "id": "c5f34d16",
   "metadata": {},
   "source": [
    "### split dataset"
   ]
  },
  {
   "cell_type": "code",
   "execution_count": 206,
   "id": "fd8fd8e8",
   "metadata": {},
   "outputs": [],
   "source": [
    "# Split data into 70% train and 30% test subsets\n",
    "X_train, X_test, y_train, y_test = train_test_split(\n",
    "    data, digits.target, test_size=0.3, shuffle=False\n",
    ")"
   ]
  },
  {
   "cell_type": "code",
   "execution_count": 207,
   "id": "8227bcab",
   "metadata": {},
   "outputs": [
    {
     "data": {
      "text/plain": [
       "1257"
      ]
     },
     "execution_count": 207,
     "metadata": {},
     "output_type": "execute_result"
    }
   ],
   "source": [
    "len(X_train)"
   ]
  },
  {
   "cell_type": "code",
   "execution_count": 208,
   "id": "dec54adb",
   "metadata": {},
   "outputs": [
    {
     "data": {
      "text/plain": [
       "540"
      ]
     },
     "execution_count": 208,
     "metadata": {},
     "output_type": "execute_result"
    }
   ],
   "source": [
    "len(X_test)"
   ]
  },
  {
   "cell_type": "markdown",
   "id": "ac72088d",
   "metadata": {},
   "source": [
    "### fit the model\n",
    "\n",
    "This uses uses the training images and corresponding labels to fit (or 'train') the model."
   ]
  },
  {
   "cell_type": "code",
   "execution_count": 209,
   "id": "3c68cbca",
   "metadata": {},
   "outputs": [
    {
     "data": {
      "text/plain": [
       "MLPClassifier(alpha=1, max_iter=1000)"
      ]
     },
     "execution_count": 209,
     "metadata": {},
     "output_type": "execute_result"
    }
   ],
   "source": [
    "# Learn the digits on the train subset\n",
    "clf.fit(X_train, y_train)"
   ]
  },
  {
   "cell_type": "markdown",
   "id": "414f48fb",
   "metadata": {},
   "source": [
    "### use trained model to predict\n",
    "\n",
    "Now our classifier `clf` has been trained, we can use it to predict the labels of our test set."
   ]
  },
  {
   "cell_type": "code",
   "execution_count": 210,
   "id": "133d307d",
   "metadata": {},
   "outputs": [],
   "source": [
    "# Predict the value of the digit on the test subset\n",
    "predicted = clf.predict(X_test)"
   ]
  },
  {
   "cell_type": "markdown",
   "id": "440e97a4",
   "metadata": {},
   "source": [
    "### See how well we did!"
   ]
  },
  {
   "cell_type": "code",
   "execution_count": 211,
   "id": "5bda67d4",
   "metadata": {},
   "outputs": [
    {
     "data": {
      "image/png": "[encoded data removed]",
      "text/plain": [
       "<Figure size 640x480 with 30 Axes>"
      ]
     },
     "metadata": {},
     "output_type": "display_data"
    }
   ],
   "source": [
    "# Look at some actual test data and our predictions\n",
    "\n",
    "_, axes = plt.subplots(nrows=1, ncols=30)\n",
    "for ax, image, prediction in zip(axes, X_test, predicted):\n",
    "    ax.set_axis_off()\n",
    "    image = image.reshape(8, 8)\n",
    "    ax.imshow(image, cmap=plt.cm.gray_r, interpolation=\"nearest\")\n",
    "    ax.set_title(f\"{prediction}\")\n",
    "plt.show()"
   ]
  },
  {
   "cell_type": "code",
   "execution_count": 212,
   "id": "d748525c",
   "metadata": {},
   "outputs": [
    {
     "name": "stdout",
     "output_type": "stream",
     "text": [
      "Classification report for classifier MLPClassifier(alpha=1, max_iter=1000):\n",
      "              precision    recall  f1-score   support\n",
      "\n",
      "           0       1.00      0.96      0.98        53\n",
      "           1       0.90      0.87      0.88        53\n",
      "           2       0.98      1.00      0.99        53\n",
      "           3       0.94      0.83      0.88        53\n",
      "           4       0.96      0.91      0.94        57\n",
      "           5       0.90      0.98      0.94        56\n",
      "           6       0.93      0.98      0.95        54\n",
      "           7       0.98      0.96      0.97        54\n",
      "           8       0.88      0.88      0.88        52\n",
      "           9       0.87      0.95      0.90        55\n",
      "\n",
      "    accuracy                           0.93       540\n",
      "   macro avg       0.93      0.93      0.93       540\n",
      "weighted avg       0.93      0.93      0.93       540\n",
      "\n",
      "\n"
     ]
    }
   ],
   "source": [
    "# Check our accuracy (F1-score is one accuracy measure)\n",
    "\n",
    "print(\n",
    "    f\"Classification report for classifier {clf}:\\n\"\n",
    "    f\"{metrics.classification_report(y_test, predicted)}\\n\"\n",
    ")"
   ]
  },
  {
   "cell_type": "code",
   "execution_count": 213,
   "id": "75a90527",
   "metadata": {},
   "outputs": [
    {
     "name": "stdout",
     "output_type": "stream",
     "text": [
      "Confusion matrix:\n",
      "[[51  0  0  0  1  0  1  0  0  0]\n",
      " [ 0 46  0  2  0  0  0  0  0  5]\n",
      " [ 0  0 53  0  0  0  0  0  0  0]\n",
      " [ 0  0  1 44  0  2  0  1  5  0]\n",
      " [ 0  1  0  0 52  0  2  0  0  2]\n",
      " [ 0  0  0  0  0 55  1  0  0  0]\n",
      " [ 0  1  0  0  0  0 53  0  0  0]\n",
      " [ 0  1  0  0  0  0  0 52  1  0]\n",
      " [ 0  2  0  0  1  2  0  0 46  1]\n",
      " [ 0  0  0  1  0  2  0  0  0 52]]\n"
     ]
    },
    {
     "data": {
      "image/png": "[encoded data removed]",
      "text/plain": [
       "<Figure size 640x480 with 2 Axes>"
      ]
     },
     "metadata": {},
     "output_type": "display_data"
    }
   ],
   "source": [
    "disp = metrics.ConfusionMatrixDisplay.from_predictions(y_test, predicted)\n",
    "disp.figure_.suptitle(\"Confusion Matrix\")\n",
    "print(f\"Confusion matrix:\\n{disp.confusion_matrix}\")\n",
    "\n",
    "plt.show()"
   ]
  },
  {
   "cell_type": "code",
   "execution_count": null,
   "id": "8a824d33",
   "metadata": {},
   "outputs": [],
   "source": []
  },
  {
   "cell_type": "code",
   "execution_count": 204,
   "id": "5f623456",
   "metadata": {},
   "outputs": [],
   "source": [
    "from sklearn.neural_network import MLPClassifier"
   ]
  },
  {
   "cell_type": "code",
   "execution_count": 205,
   "id": "8622229b",
   "metadata": {},
   "outputs": [],
   "source": [
    "# Create a classifier: a multi-layer perceptron\n",
    "clf = MLPClassifier(alpha=1, max_iter=1000)"
   ]
  },
  {
   "cell_type": "code",
   "execution_count": null,
   "id": "75cc073c",
   "metadata": {},
   "outputs": [],
   "source": []
  }
 ],
 "metadata": {
  "kernelspec": {
   "display_name": "Python 3",
   "language": "python",
   "name": "python3"
  },
  "language_info": {
   "codemirror_mode": {
    "name": "ipython",
    "version": 3
   },
   "file_extension": ".py",
   "mimetype": "text/x-python",
   "name": "python",
   "nbconvert_exporter": "python",
   "pygments_lexer": "ipython3",
   "version": "3.9.5"
  }
 },
 "nbformat": 4,
 "nbformat_minor": 5
}
